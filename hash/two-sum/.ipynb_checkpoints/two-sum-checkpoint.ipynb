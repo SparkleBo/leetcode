{
 "cells": [
  {
   "cell_type": "code",
   "execution_count": null,
   "id": "7b1134fe-895a-4e08-84dc-8224e89de166",
   "metadata": {},
   "outputs": [],
   "source": [
    "[两数之和](https://leetcode.cn/problems/two-sum/description/)"
   ]
  },
  {
   "cell_type": "code",
   "execution_count": null,
   "id": "ff448075-11e4-4db8-99da-1eb26b9ce73e",
   "metadata": {},
   "outputs": [],
   "source": [
    "class Solution:\n",
    "    def twoSum(self, nums: List[int], target: int) -> List[int]:\n",
    "        map = dict()\n",
    "        for i, num in enumerate(nums):\n",
    "            left_num = target - num\n",
    "            if left_num not in map:\n",
    "                map[num] = i\n",
    "            else:\n",
    "                return [i, map[left_num]]\n",
    "        return [0, 0]"
   ]
  }
 ],
 "metadata": {
  "kernelspec": {
   "display_name": "Python 3 (ipykernel)",
   "language": "python",
   "name": "python3"
  },
  "language_info": {
   "codemirror_mode": {
    "name": "ipython",
    "version": 3
   },
   "file_extension": ".py",
   "mimetype": "text/x-python",
   "name": "python",
   "nbconvert_exporter": "python",
   "pygments_lexer": "ipython3",
   "version": "3.11.7"
  }
 },
 "nbformat": 4,
 "nbformat_minor": 5
}
