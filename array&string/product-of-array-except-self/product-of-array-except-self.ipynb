{
 "cells": [
  {
   "cell_type": "code",
   "execution_count": null,
   "id": "22d5867d-0f8c-4c15-8c0d-2393aa4dd5a8",
   "metadata": {},
   "outputs": [],
   "source": [
    "[除自身以外数组的乘积](https://leetcode.cn/problems/product-of-array-except-self/description/)"
   ]
  },
  {
   "cell_type": "code",
   "execution_count": null,
   "id": "47a0e081-b2e2-4175-a57e-9e7af545d309",
   "metadata": {},
   "outputs": [],
   "source": [
    "class Solution:\n",
    "    \n",
    "    def productExceptSelf(self, nums: List[int]) -> List[int]:\n",
    "        n = len(nums)\n",
    "        answers = [1] * n\n",
    "        prefix_pro = 1\n",
    "        for i in range(n):\n",
    "            answers[i] = prefix_pro\n",
    "            prefix_pro *= nums[i]\n",
    "        \n",
    "        suffix_pro = 1\n",
    "        for i in range(n-1, -1, -1):\n",
    "            answers[i] *= suffix_pro\n",
    "            suffix_pro *= nums[i]\n",
    "        \n",
    "        return answers"
   ]
  }
 ],
 "metadata": {
  "kernelspec": {
   "display_name": "Python 3 (ipykernel)",
   "language": "python",
   "name": "python3"
  },
  "language_info": {
   "codemirror_mode": {
    "name": "ipython",
    "version": 3
   },
   "file_extension": ".py",
   "mimetype": "text/x-python",
   "name": "python",
   "nbconvert_exporter": "python",
   "pygments_lexer": "ipython3",
   "version": "3.11.7"
  }
 },
 "nbformat": 4,
 "nbformat_minor": 5
}
