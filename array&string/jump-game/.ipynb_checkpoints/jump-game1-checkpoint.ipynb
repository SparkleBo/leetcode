{
 "cells": [
  {
   "cell_type": "code",
   "execution_count": null,
   "id": "e2b98198-6f22-4e32-a413-bf016a2073c2",
   "metadata": {},
   "outputs": [],
   "source": [
    "(跳跃游戏)[https://leetcode.cn/problems/jump-game/description/]"
   ]
  },
  {
   "cell_type": "code",
   "execution_count": null,
   "id": "70a988d8-709f-4632-a21f-5432bb62b5eb",
   "metadata": {},
   "outputs": [],
   "source": [
    "class Solution:\n",
    "    def canJump(self, nums: List[int]) -> bool:\n",
    "\n",
    "        n = len(nums)\n",
    "        if n == 1:\n",
    "            return True\n",
    "        if nums[0] == 0:\n",
    "            return False\n",
    "        \n",
    "        max_r = nums[0]\n",
    "        for i in range(1, n):\n",
    "            if max_r < i:\n",
    "                return False\n",
    "            max_r = max(nums[i] + i, max_r)\n",
    "            if max_r >= n-1:\n",
    "                return True\n",
    "        return True"
   ]
  }
 ],
 "metadata": {
  "kernelspec": {
   "display_name": "Python 3 (ipykernel)",
   "language": "python",
   "name": "python3"
  },
  "language_info": {
   "codemirror_mode": {
    "name": "ipython",
    "version": 3
   },
   "file_extension": ".py",
   "mimetype": "text/x-python",
   "name": "python",
   "nbconvert_exporter": "python",
   "pygments_lexer": "ipython3",
   "version": "3.11.7"
  }
 },
 "nbformat": 4,
 "nbformat_minor": 5
}
