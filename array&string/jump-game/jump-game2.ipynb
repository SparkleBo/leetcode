{
 "cells": [
  {
   "cell_type": "code",
   "execution_count": null,
   "id": "25441a39-f7e2-4fb8-a86e-d36c8c947fe9",
   "metadata": {},
   "outputs": [],
   "source": [
    "[跳跃游戏2](https://leetcode.cn/problems/jump-game-ii/description/)"
   ]
  },
  {
   "cell_type": "code",
   "execution_count": null,
   "id": "18f74bb0-2ee2-443e-9d69-6abb0ea3a871",
   "metadata": {},
   "outputs": [],
   "source": [
    "# 从后往前计算，但效率低\n",
    "class Solution:\n",
    "    def jump(self, nums: List[int]) -> int:\n",
    "        # 跳到 n - 1 位置，最小、\n",
    "        n = len(nums)\n",
    "        if n == 1:\n",
    "            return 0\n",
    "        min_index = n - 1\n",
    "        res = 0\n",
    "        for i in range(n-2, -1, -1):\n",
    "            if nums[i] >= (n - 1 - i):\n",
    "                min_index = i\n",
    "        return 1 + self.jump(nums[:min_index+1])"
   ]
  },
  {
   "cell_type": "code",
   "execution_count": null,
   "id": "5097e7dd-387b-4346-bf35-1e8a40d30af0",
   "metadata": {},
   "outputs": [],
   "source": [
    "# 贪心，每次都跳跃到最远的位置\n",
    "class Solution:\n",
    "    def jump(self, nums: List[int]) -> int:\n",
    "        # 跳到 n - 1 位置，最小、\n",
    "        n = len(nums)\n",
    "        maxPos, end, step = 0, 0, 0\n",
    "        for i in range(n - 1):\n",
    "            if maxPos >= i:\n",
    "                maxPos = max(maxPos, i + nums[i])\n",
    "                if i == end:\n",
    "                    end = maxPos\n",
    "                    step += 1\n",
    "        return step"
   ]
  }
 ],
 "metadata": {
  "kernelspec": {
   "display_name": "Python 3 (ipykernel)",
   "language": "python",
   "name": "python3"
  },
  "language_info": {
   "codemirror_mode": {
    "name": "ipython",
    "version": 3
   },
   "file_extension": ".py",
   "mimetype": "text/x-python",
   "name": "python",
   "nbconvert_exporter": "python",
   "pygments_lexer": "ipython3",
   "version": "3.11.7"
  }
 },
 "nbformat": 4,
 "nbformat_minor": 5
}
