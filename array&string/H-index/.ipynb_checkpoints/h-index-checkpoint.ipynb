{
 "cells": [
  {
   "cell_type": "code",
   "execution_count": null,
   "id": "5838a885-372b-4be9-b78d-f8f6d2747453",
   "metadata": {},
   "outputs": [],
   "source": [
    "(H指数)[https://leetcode.cn/problems/h-index/description/]"
   ]
  },
  {
   "cell_type": "code",
   "execution_count": null,
   "id": "6636479a-0c79-44a5-832e-e8d81ee68a67",
   "metadata": {},
   "outputs": [],
   "source": [
    "class Solution:\n",
    "    def hIndex(self, citations: List[int]) -> int:\n",
    "        citations.sort()\n",
    "        n = len(citations)\n",
    "        res = 0\n",
    "        i = 0\n",
    "        for i in range(n):\n",
    "            if citations[i] == 0:\n",
    "                continue\n",
    "            if i + citations[i] - 1 > n - 1:\n",
    "                return max(res, n - i)\n",
    "            if citations[i + citations[i] - 1] >= citations[i]:\n",
    "                res = citations[i]\n",
    "        return res\n"
   ]
  }
 ],
 "metadata": {
  "kernelspec": {
   "display_name": "Python 3 (ipykernel)",
   "language": "python",
   "name": "python3"
  },
  "language_info": {
   "codemirror_mode": {
    "name": "ipython",
    "version": 3
   },
   "file_extension": ".py",
   "mimetype": "text/x-python",
   "name": "python",
   "nbconvert_exporter": "python",
   "pygments_lexer": "ipython3",
   "version": "3.11.7"
  }
 },
 "nbformat": 4,
 "nbformat_minor": 5
}
