{
 "cells": [
  {
   "cell_type": "code",
   "execution_count": null,
   "id": "c273efb5-8ae4-4f91-a818-f125e343ecf1",
   "metadata": {},
   "outputs": [],
   "source": [
    "[O(1) 时间插入、删除和获取随机元素](https://leetcode.cn/problems/insert-delete-getrandom-o1/description/)"
   ]
  },
  {
   "cell_type": "code",
   "execution_count": null,
   "id": "22ef4f71-c81a-4f39-9572-9bf884433133",
   "metadata": {},
   "outputs": [],
   "source": [
    "import random\n",
    "\n",
    "class RandomizedSet:\n",
    "\n",
    "    def __init__(self):\n",
    "        self.data = dict()\n",
    "        \n",
    "\n",
    "    def insert(self, val: int) -> bool:\n",
    "        if val in self.data:\n",
    "            return False\n",
    "        self.data[val] = val\n",
    "        return True\n",
    "\n",
    "    def remove(self, val: int) -> bool:\n",
    "        d = self.data.pop(val, None)\n",
    "        return d is not None\n",
    "\n",
    "    def getRandom(self) -> int:\n",
    "        return random.choice(list(self.data.keys()))\n"
   ]
  }
 ],
 "metadata": {
  "kernelspec": {
   "display_name": "Python 3 (ipykernel)",
   "language": "python",
   "name": "python3"
  },
  "language_info": {
   "codemirror_mode": {
    "name": "ipython",
    "version": 3
   },
   "file_extension": ".py",
   "mimetype": "text/x-python",
   "name": "python",
   "nbconvert_exporter": "python",
   "pygments_lexer": "ipython3",
   "version": "3.11.7"
  }
 },
 "nbformat": 4,
 "nbformat_minor": 5
}
